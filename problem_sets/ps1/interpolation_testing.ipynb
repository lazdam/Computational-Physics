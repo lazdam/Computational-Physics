{
 "cells": [
  {
   "cell_type": "code",
   "execution_count": 1,
   "metadata": {},
   "outputs": [],
   "source": [
    "import numpy as np\n",
    "import matplotlib.pyplot as plt"
   ]
  },
  {
   "cell_type": "code",
   "execution_count": 45,
   "metadata": {},
   "outputs": [],
   "source": [
    "T, V, dVdT = np.loadtxt('lakeshore.txt').T"
   ]
  },
  {
   "cell_type": "code",
   "execution_count": 20,
   "metadata": {},
   "outputs": [],
   "source": [
    "x=np.linspace(-10,10,10)\n",
    "dx=x[1]-x[0]\n",
    "y=np.exp(x)\n",
    "\n",
    "xx=np.linspace(x[2],x[-3],1001)\n",
    "yy=np.empty(len(xx))\n",
    "coeffs = np.zeros([len(xx), 4])\n",
    "for i in range(len(xx)):\n",
    "    ind=(xx[i]-x[0])/dx\n",
    "    ind=int(np.floor(ind))\n",
    "    \n",
    "    x_use=x[ind-1:ind+3]\n",
    "    y_use=y[ind-1:ind+3]\n",
    "    \n",
    "    p=np.polyfit(x_use,y_use,3)\n",
    "    coeffs[i, : ] = p\n",
    "    yy[i]=np.polyval(p,xx[i])\n"
   ]
  },
  {
   "cell_type": "code",
   "execution_count": 21,
   "metadata": {},
   "outputs": [
    {
     "data": {
      "text/plain": [
       "array([[ 3.54400048e-03,  6.19382356e-02,  3.50485575e-01,\n",
       "         6.47015901e-01],\n",
       "       [ 3.54400048e-03,  6.19382356e-02,  3.50485575e-01,\n",
       "         6.47015901e-01],\n",
       "       [ 3.54400048e-03,  6.19382356e-02,  3.50485575e-01,\n",
       "         6.47015901e-01],\n",
       "       ...,\n",
       "       [ 2.56973990e+01, -2.36152422e+02,  6.48386181e+02,\n",
       "        -4.61095363e+02],\n",
       "       [ 2.56973990e+01, -2.36152422e+02,  6.48386181e+02,\n",
       "        -4.61095363e+02],\n",
       "       [ 2.37130827e+02, -3.76004289e+03,  1.91814397e+04,\n",
       "        -3.09144698e+04]])"
      ]
     },
     "execution_count": 21,
     "metadata": {},
     "output_type": "execute_result"
    }
   ],
   "source": [
    "coeffs"
   ]
  },
  {
   "cell_type": "code",
   "execution_count": 22,
   "metadata": {},
   "outputs": [
    {
     "name": "stdout",
     "output_type": "stream",
     "text": [
      "Collecting sklearn\n",
      "  Downloading https://files.pythonhosted.org/packages/1e/7a/dbb3be0ce9bd5c8b7e3d87328e79063f8b263b2b1bfa4774cb1147bfcd3f/sklearn-0.0.tar.gz\n",
      "Collecting scikit-learn (from sklearn)\n",
      "\u001b[?25l  Downloading https://files.pythonhosted.org/packages/a8/eb/a48f25c967526b66d5f1fa7a984594f0bf0a5afafa94a8c4dbc317744620/scikit_learn-0.24.2-cp37-cp37m-manylinux2010_x86_64.whl (22.3MB)\n",
      "\u001b[K     |████████████████████████████████| 22.3MB 12.0MB/s eta 0:00:01\n",
      "\u001b[?25hCollecting joblib>=0.11 (from scikit-learn->sklearn)\n",
      "\u001b[?25l  Downloading https://files.pythonhosted.org/packages/55/85/70c6602b078bd9e6f3da4f467047e906525c355a4dacd4f71b97a35d9897/joblib-1.0.1-py3-none-any.whl (303kB)\n",
      "\u001b[K     |████████████████████████████████| 307kB 19.7MB/s eta 0:00:01\n",
      "\u001b[?25hCollecting threadpoolctl>=2.0.0 (from scikit-learn->sklearn)\n",
      "  Downloading https://files.pythonhosted.org/packages/c6/e8/c216b9b60cbba4642d3ca1bae7a53daa0c24426f662e0e3ce3dc7f6caeaa/threadpoolctl-2.2.0-py3-none-any.whl\n",
      "Requirement already satisfied: numpy>=1.13.3 in /home/mattias/snap/jupyter/common/lib/python3.7/site-packages (from scikit-learn->sklearn) (1.21.2)\n",
      "Requirement already satisfied: scipy>=0.19.1 in /home/mattias/snap/jupyter/common/lib/python3.7/site-packages (from scikit-learn->sklearn) (1.7.1)\n",
      "Building wheels for collected packages: sklearn\n",
      "  Building wheel for sklearn (setup.py) ... \u001b[?25ldone\n",
      "\u001b[?25h  Stored in directory: /home/mattias/snap/jupyter/6/.cache/pip/wheels/76/03/bb/589d421d27431bcd2c6da284d5f2286c8e3b2ea3cf1594c074\n",
      "Successfully built sklearn\n",
      "Installing collected packages: joblib, threadpoolctl, scikit-learn, sklearn\n",
      "Successfully installed joblib-1.0.1 scikit-learn-0.24.2 sklearn-0.0 threadpoolctl-2.2.0\n",
      "Note: you may need to restart the kernel to use updated packages.\n"
     ]
    }
   ],
   "source": [
    "pip install sklearn"
   ]
  },
  {
   "cell_type": "code",
   "execution_count": 22,
   "metadata": {},
   "outputs": [
    {
     "data": {
      "text/plain": [
       "array([[ 1],\n",
       "       [ 2],\n",
       "       [ 4],\n",
       "       [ 7],\n",
       "       [12],\n",
       "       [14],\n",
       "       [ 3]])"
      ]
     },
     "execution_count": 22,
     "metadata": {},
     "output_type": "execute_result"
    }
   ],
   "source": [
    "x = np.array([1,2,4,7,12,14, 3])\n",
    "x = x.reshape(-1,1)\n",
    "x"
   ]
  },
  {
   "cell_type": "code",
   "execution_count": 3,
   "metadata": {},
   "outputs": [
    {
     "name": "stderr",
     "output_type": "stream",
     "text": [
      "/home/mattias/snap/jupyter/common/lib/python3.7/site-packages/joblib/_multiprocessing_helpers.py:45: UserWarning: [Errno 13] Permission denied.  joblib will operate in serial mode\n",
      "  warnings.warn('%s.  joblib will operate in serial mode' % (e,))\n"
     ]
    }
   ],
   "source": [
    "from sklearn.neighbors import NearestNeighbors"
   ]
  },
  {
   "cell_type": "code",
   "execution_count": 23,
   "metadata": {},
   "outputs": [],
   "source": [
    "nbrs = NearestNeighbors(n_neighbors=3, algorithm='ball_tree').fit(x)"
   ]
  },
  {
   "cell_type": "code",
   "execution_count": 34,
   "metadata": {},
   "outputs": [],
   "source": [
    "distances, indices = nbrs.kneighbors(x)"
   ]
  },
  {
   "cell_type": "code",
   "execution_count": 25,
   "metadata": {},
   "outputs": [
    {
     "data": {
      "text/plain": [
       "array([[0, 1, 6],\n",
       "       [1, 6, 0],\n",
       "       [2, 6, 1],\n",
       "       [3, 2, 6],\n",
       "       [4, 5, 3],\n",
       "       [5, 4, 3],\n",
       "       [6, 2, 1]])"
      ]
     },
     "execution_count": 25,
     "metadata": {},
     "output_type": "execute_result"
    }
   ],
   "source": [
    "indices"
   ]
  },
  {
   "cell_type": "code",
   "execution_count": 20,
   "metadata": {},
   "outputs": [
    {
     "data": {
      "text/plain": [
       "array([[0., 1., 3.],\n",
       "       [0., 1., 2.],\n",
       "       [0., 2., 3.],\n",
       "       [0., 3., 5.],\n",
       "       [0., 2., 5.],\n",
       "       [0., 2., 7.]])"
      ]
     },
     "execution_count": 20,
     "metadata": {},
     "output_type": "execute_result"
    }
   ],
   "source": [
    "distances"
   ]
  },
  {
   "cell_type": "code",
   "execution_count": 46,
   "metadata": {},
   "outputs": [],
   "source": [
    "V = V.reshape(-1,1)"
   ]
  },
  {
   "cell_type": "code",
   "execution_count": 47,
   "metadata": {},
   "outputs": [],
   "source": [
    "v_input = 1.5\n",
    "V = np.vstack((v_input, V))"
   ]
  },
  {
   "cell_type": "code",
   "execution_count": 48,
   "metadata": {},
   "outputs": [
    {
     "data": {
      "text/plain": [
       "array([[1.5     ],\n",
       "       [1.64429 ],\n",
       "       [1.64299 ],\n",
       "       [1.64157 ],\n",
       "       [1.64003 ],\n",
       "       [1.63837 ],\n",
       "       [1.6366  ],\n",
       "       [1.63472 ],\n",
       "       [1.63274 ],\n",
       "       [1.63067 ],\n",
       "       [1.62852 ],\n",
       "       [1.62629 ],\n",
       "       [1.624   ],\n",
       "       [1.62166 ],\n",
       "       [1.61928 ],\n",
       "       [1.61687 ],\n",
       "       [1.61445 ],\n",
       "       [1.612   ],\n",
       "       [1.60951 ],\n",
       "       [1.60697 ],\n",
       "       [1.60438 ],\n",
       "       [1.60173 ],\n",
       "       [1.59902 ],\n",
       "       [1.59626 ],\n",
       "       [1.59344 ],\n",
       "       [1.59057 ],\n",
       "       [1.58764 ],\n",
       "       [1.58465 ],\n",
       "       [1.57848 ],\n",
       "       [1.57202 ],\n",
       "       [1.56533 ],\n",
       "       [1.55845 ],\n",
       "       [1.55145 ],\n",
       "       [1.54436 ],\n",
       "       [1.53721 ],\n",
       "       [1.53    ],\n",
       "       [1.52273 ],\n",
       "       [1.51541 ],\n",
       "       [1.49698 ],\n",
       "       [1.47868 ],\n",
       "       [1.46086 ],\n",
       "       [1.44374 ],\n",
       "       [1.42747 ],\n",
       "       [1.41207 ],\n",
       "       [1.39751 ],\n",
       "       [1.38373 ],\n",
       "       [1.37065 ],\n",
       "       [1.3582  ],\n",
       "       [1.34632 ],\n",
       "       [1.33499 ],\n",
       "       [1.32416 ],\n",
       "       [1.31381 ],\n",
       "       [1.3039  ],\n",
       "       [1.29439 ],\n",
       "       [1.28526 ],\n",
       "       [1.27645 ],\n",
       "       [1.26794 ],\n",
       "       [1.25967 ],\n",
       "       [1.25161 ],\n",
       "       [1.24372 ],\n",
       "       [1.23596 ],\n",
       "       [1.2283  ],\n",
       "       [1.2207  ],\n",
       "       [1.21311 ],\n",
       "       [1.20548 ],\n",
       "       [1.197748],\n",
       "       [1.181548],\n",
       "       [1.162797],\n",
       "       [1.140817],\n",
       "       [1.125923],\n",
       "       [1.119448],\n",
       "       [1.115658],\n",
       "       [1.11281 ],\n",
       "       [1.110421],\n",
       "       [1.108261],\n",
       "       [1.106244],\n",
       "       [1.104324],\n",
       "       [1.102476],\n",
       "       [1.100681],\n",
       "       [1.09893 ],\n",
       "       [1.097216],\n",
       "       [1.095534],\n",
       "       [1.093878],\n",
       "       [1.092244],\n",
       "       [1.090627],\n",
       "       [1.089024],\n",
       "       [1.085842],\n",
       "       [1.082669],\n",
       "       [1.079492],\n",
       "       [1.076303],\n",
       "       [1.073099],\n",
       "       [1.069881],\n",
       "       [1.06665 ],\n",
       "       [1.063403],\n",
       "       [1.060141],\n",
       "       [1.056862],\n",
       "       [1.048584],\n",
       "       [1.040183],\n",
       "       [1.031651],\n",
       "       [1.027594],\n",
       "       [1.022984],\n",
       "       [1.014181],\n",
       "       [1.005244],\n",
       "       [0.986974],\n",
       "       [0.968209],\n",
       "       [0.949   ],\n",
       "       [0.92939 ],\n",
       "       [0.909416],\n",
       "       [0.889114],\n",
       "       [0.868518],\n",
       "       [0.847659],\n",
       "       [0.82656 ],\n",
       "       [0.805242],\n",
       "       [0.78372 ],\n",
       "       [0.762007],\n",
       "       [0.740115],\n",
       "       [0.718054],\n",
       "       [0.695834],\n",
       "       [0.673462],\n",
       "       [0.650949],\n",
       "       [0.628302],\n",
       "       [0.621141],\n",
       "       [0.605528],\n",
       "       [0.582637],\n",
       "       [0.559639],\n",
       "       [0.536542],\n",
       "       [0.513361],\n",
       "       [0.490106],\n",
       "       [0.46676 ],\n",
       "       [0.443371],\n",
       "       [0.41996 ],\n",
       "       [0.396503],\n",
       "       [0.373002],\n",
       "       [0.349453],\n",
       "       [0.325839],\n",
       "       [0.302161],\n",
       "       [0.278416],\n",
       "       [0.254592],\n",
       "       [0.230697],\n",
       "       [0.206758],\n",
       "       [0.182832],\n",
       "       [0.15901 ],\n",
       "       [0.13548 ],\n",
       "       [0.112553],\n",
       "       [0.090681]])"
      ]
     },
     "execution_count": 48,
     "metadata": {},
     "output_type": "execute_result"
    }
   ],
   "source": [
    "V"
   ]
  },
  {
   "cell_type": "code",
   "execution_count": 49,
   "metadata": {},
   "outputs": [],
   "source": [
    "nbrs = NearestNeighbors(n_neighbors=5, algorithm='ball_tree').fit(V)\n",
    "distances, indices = nbrs.kneighbors(V)"
   ]
  },
  {
   "cell_type": "code",
   "execution_count": 53,
   "metadata": {},
   "outputs": [
    {
     "data": {
      "text/plain": [
       "array([38, 37, 39, 36])"
      ]
     },
     "execution_count": 53,
     "metadata": {},
     "output_type": "execute_result"
    }
   ],
   "source": [
    "indices[0][1:]"
   ]
  },
  {
   "cell_type": "code",
   "execution_count": 40,
   "metadata": {},
   "outputs": [
    {
     "data": {
      "text/plain": [
       "array([1.49698])"
      ]
     },
     "execution_count": 40,
     "metadata": {},
     "output_type": "execute_result"
    }
   ],
   "source": [
    "V[37]"
   ]
  },
  {
   "cell_type": "code",
   "execution_count": 41,
   "metadata": {},
   "outputs": [
    {
     "data": {
      "text/plain": [
       "array([1.51541])"
      ]
     },
     "execution_count": 41,
     "metadata": {},
     "output_type": "execute_result"
    }
   ],
   "source": [
    "V[36]"
   ]
  },
  {
   "cell_type": "code",
   "execution_count": 42,
   "metadata": {},
   "outputs": [
    {
     "data": {
      "text/plain": [
       "array([1.47868])"
      ]
     },
     "execution_count": 42,
     "metadata": {},
     "output_type": "execute_result"
    }
   ],
   "source": [
    "V[38]"
   ]
  },
  {
   "cell_type": "code",
   "execution_count": 43,
   "metadata": {},
   "outputs": [
    {
     "data": {
      "text/plain": [
       "array([1.52273])"
      ]
     },
     "execution_count": 43,
     "metadata": {},
     "output_type": "execute_result"
    }
   ],
   "source": [
    "V[35]"
   ]
  },
  {
   "cell_type": "code",
   "execution_count": 70,
   "metadata": {},
   "outputs": [],
   "source": [
    "x_use = V[indices[0][1:]].reshape(1,4)"
   ]
  },
  {
   "cell_type": "code",
   "execution_count": 66,
   "metadata": {},
   "outputs": [],
   "source": [
    "y_use = T[indices[0][1:]]"
   ]
  },
  {
   "cell_type": "code",
   "execution_count": 73,
   "metadata": {},
   "outputs": [
    {
     "data": {
      "text/plain": [
       "array([1.49698, 1.51541, 1.47868, 1.52273])"
      ]
     },
     "execution_count": 73,
     "metadata": {},
     "output_type": "execute_result"
    }
   ],
   "source": [
    "x_use.reshape(1,4)[0]"
   ]
  },
  {
   "cell_type": "code",
   "execution_count": 71,
   "metadata": {},
   "outputs": [
    {
     "data": {
      "text/plain": [
       "array([7. , 6.5, 7.5, 6. ])"
      ]
     },
     "execution_count": 71,
     "metadata": {},
     "output_type": "execute_result"
    }
   ],
   "source": [
    "y_use"
   ]
  },
  {
   "cell_type": "code",
   "execution_count": 76,
   "metadata": {},
   "outputs": [],
   "source": [
    "p = np.polyfit(x_use[0], y_use, 3)"
   ]
  },
  {
   "cell_type": "code",
   "execution_count": 77,
   "metadata": {},
   "outputs": [
    {
     "data": {
      "text/plain": [
       "6.953960504295537"
      ]
     },
     "execution_count": 77,
     "metadata": {},
     "output_type": "execute_result"
    }
   ],
   "source": [
    "np.polyval(p, v_input)"
   ]
  },
  {
   "cell_type": "code",
   "execution_count": 78,
   "metadata": {},
   "outputs": [
    {
     "data": {
      "text/plain": [
       "array([1.49698, 1.51541, 1.47868, 1.52273])"
      ]
     },
     "execution_count": 78,
     "metadata": {},
     "output_type": "execute_result"
    }
   ],
   "source": [
    "x_use[0]"
   ]
  },
  {
   "cell_type": "code",
   "execution_count": null,
   "metadata": {},
   "outputs": [],
   "source": [
    "[1.47868 1.49698 1.46086 1.51541]"
   ]
  },
  {
   "cell_type": "code",
   "execution_count": 82,
   "metadata": {},
   "outputs": [
    {
     "name": "stdout",
     "output_type": "stream",
     "text": [
      "[1.47868 1.49698 1.46086 1.51541] [7.  6.5 7.5 6. ]\n",
      "6.41809934193293\n"
     ]
    },
    {
     "data": {
      "image/png": "[encoded data removed]",
      "text/plain": [
       "<Figure size 432x288 with 1 Axes>"
      ]
     },
     "metadata": {
      "needs_background": "light"
     },
     "output_type": "display_data"
    }
   ],
   "source": [
    "data = np.loadtxt('lakeshore.txt')\n",
    "\n",
    "def lakeshore(V, data):\n",
    "    '''\n",
    "    Provides interpolated temperature given some input voltage. \n",
    "\n",
    "    Parameters: \n",
    "    -----------\n",
    "\n",
    "    V: float\n",
    "        Input voltage\n",
    "    data: '.txt' file\n",
    "        Textfile containing information about the diodes. First column\n",
    "        corresponds to temperature, second column corresponding voltage\n",
    "        and third column dV/dT. \n",
    "\n",
    "    Returns: float\n",
    "        Interpolated temperature\n",
    "    '''\n",
    "\n",
    "\n",
    "    T_raw, V_raw, dVdT = np.loadtxt('lakeshore.txt').T\n",
    "\n",
    "    \n",
    "    #We will utilize the NearestNeighbors package from sklearn in order\n",
    "    #to determine the nearest neighbors of the input voltage. See attached PDF\n",
    "    #for a description of the package\n",
    "    \n",
    "\n",
    "    V_temp = V_raw.reshape(-1,1)\n",
    "    V_neighbors = np.vstack((V, V_temp)) #Add input voltage to raw voltages\n",
    "\n",
    "    nbrs = NearestNeighbors(n_neighbors=5, algorithm = 'ball_tree').fit(V_neighbors)\n",
    "    distances, indices = nbrs.kneighbors(V_neighbors)\n",
    "\n",
    "    x_use = V_raw[indices[0][1:]]\n",
    "    y_use = T_raw[indices[0][1:]]\n",
    "\n",
    "    print(x_use, y_use)\n",
    "    \n",
    "    p = np.polyfit(x_use, y_use, 3)\n",
    "    interpolated_temp = np.polyval(p, V)\n",
    "    print(interpolated_temp)\n",
    "    \n",
    "    plt.plot(x_use, y_use, '*')\n",
    "    plt.plot(V, interpolated_temp, '.', color = 'red')\n",
    "    plt.show()\n",
    "    \n",
    "\n",
    "\n",
    "\n",
    "    return\n",
    "\n",
    "\n",
    "lakeshore(1.5, data)\n"
   ]
  },
  {
   "cell_type": "code",
   "execution_count": null,
   "metadata": {},
   "outputs": [],
   "source": []
  }
 ],
 "metadata": {
  "kernelspec": {
   "display_name": "Python 3",
   "language": "python",
   "name": "python3"
  },
  "language_info": {
   "codemirror_mode": {
    "name": "ipython",
    "version": 3
   },
   "file_extension": ".py",
   "mimetype": "text/x-python",
   "name": "python",
   "nbconvert_exporter": "python",
   "pygments_lexer": "ipython3",
   "version": "3.7.3"
  }
 },
 "nbformat": 4,
 "nbformat_minor": 2
}
