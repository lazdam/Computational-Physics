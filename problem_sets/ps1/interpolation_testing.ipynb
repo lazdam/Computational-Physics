{
 "cells": [
  {
   "cell_type": "code",
   "execution_count": 1,
   "metadata": {},
   "outputs": [],
   "source": [
    "import numpy as np\n",
    "import matplotlib.pyplot as plt\n",
    "from scipy.optimize import curve_fit"
   ]
  },
  {
   "cell_type": "code",
   "execution_count": 5,
   "metadata": {},
   "outputs": [],
   "source": [
    "def rat_eval(x, p, q):\n",
    "    \n",
    "    top = 0\n",
    "    for i, p_i in enumerate(p):\n",
    "        top+=p_i*x**i\n",
    "    \n",
    "    bot = 1    \n",
    "    for j, q_j in enumerate(q):\n",
    "        \n",
    "        bot+=q_j*x**(j+1)\n",
    "    \n",
    "    return top/bot\n",
    "\n",
    "def rat_fit(x, fun, n, m): #n and m represent degree of polynomial, not number of terms\n",
    "    \n",
    "    assert(len(x)==n+m+1)\n",
    "    y = fun(x)\n",
    "    \n",
    "    mat = np.zeros([n+1+m, n+1+m])\n",
    "    \n",
    "    for i in range(n+1):\n",
    "        mat[:,i] = x**i\n",
    "\n",
    "    for j in range(0,m):\n",
    "        mat[:,n+1+j] = -y*x**(j+1)\n",
    "        \n",
    "    coeffs = np.linalg.inv(mat)@y\n",
    "    \n",
    "    p = coeffs[:n+1]\n",
    "    q = coeffs[n+1:]\n",
    "    \n",
    "    return mat, p, q\n",
    "\n",
    "    "
   ]
  },
  {
   "cell_type": "code",
   "execution_count": 6,
   "metadata": {},
   "outputs": [
    {
     "name": "stdout",
     "output_type": "stream",
     "text": [
      "[ 9.00497039e+01  1.79038080e+07 -2.59871520e-01 -8.48528001e+06\n",
      " -5.20134456e-02  5.17568000e+05 -2.80469633e-03 -7.87550001e+03] [1.79038080e+07 2.56370567e-02 4.66666000e+05 2.38468870e-04\n",
      " 4.90787500e+03]\n"
     ]
    }
   ],
   "source": [
    "n = 7\n",
    "m = 5\n",
    "x = np.linspace(-np.pi/2, np.pi/2 , n+m+1)\n",
    "#y = np.cos(x)\n",
    "mat, p, q = rat_fit(x, np.cos, n, m)\n",
    "\n",
    "xx = np.linspace(-np.pi/2, np.pi/2, 1000)\n",
    "yy = np.empty(len(xx))\n",
    "for i, xx_i in enumerate(xx):\n",
    "    yy_i = rat_eval(xx_i, p, q)\n",
    "    yy[i] = yy_i\n",
    "\n",
    "print(p, q)"
   ]
  },
  {
   "cell_type": "code",
   "execution_count": 7,
   "metadata": {},
   "outputs": [
    {
     "data": {
      "text/plain": [
       "[<matplotlib.lines.Line2D at 0x7f90a3d9a198>]"
      ]
     },
     "execution_count": 7,
     "metadata": {},
     "output_type": "execute_result"
    },
    {
     "data": {
      "image/png": "[encoded data removed]",
      "text/plain": [
       "<Figure size 432x288 with 1 Axes>"
      ]
     },
     "metadata": {
      "needs_background": "light"
     },
     "output_type": "display_data"
    }
   ],
   "source": [
    "plt.plot(xx, yy)\n",
    "plt.plot(xx, np.cos(xx))"
   ]
  },
  {
   "cell_type": "code",
   "execution_count": 71,
   "metadata": {},
   "outputs": [
    {
     "data": {
      "text/plain": [
       "[<matplotlib.lines.Line2D at 0x7f527d2c5b70>]"
      ]
     },
     "execution_count": 71,
     "metadata": {},
     "output_type": "execute_result"
    },
    {
     "data": {
      "image/png": "[encoded data removed]",
      "text/plain": [
       "<Figure size 432x288 with 1 Axes>"
      ]
     },
     "metadata": {
      "needs_background": "light"
     },
     "output_type": "display_data"
    }
   ],
   "source": [
    "import numpy as np\n",
    "from matplotlib import pyplot as plt\n",
    "\n",
    "def rat_eval(p,q,x):\n",
    "    top=0\n",
    "    for i in range(len(p)):\n",
    "        top=top+p[i]*x**i\n",
    "    bot=1\n",
    "    for i in range(len(q)):\n",
    "        bot=bot+q[i]*x**(i+1)\n",
    "    return top/bot\n",
    "\n",
    "def rat_fit(x,y,n,m):\n",
    "    assert(len(x)==n+m-1)\n",
    "    assert(len(y)==len(x))\n",
    "    mat=np.zeros([n+m-1,n+m-1])\n",
    "    for i in range(n):\n",
    "        mat[:,i]=x**i\n",
    "    for i in range(1,m):\n",
    "        mat[:,i-1+n]=-y*x**i\n",
    "    pars=np.dot(np.linalg.inv(mat),y)\n",
    "    p=pars[:n]\n",
    "    q=pars[n:]\n",
    "    return p,q\n",
    "\n",
    "\n",
    "#1*p0 + x*p1 +x**2+p2+... -q1*x - q2*x**2... = y\n",
    "\n",
    "n=4\n",
    "m=5\n",
    "x=np.linspace(-1,1,n+m-1)\n",
    "y=1/(1 + x**2)\n",
    "p,q=rat_fit(x,y,n,m)\n",
    "xx=np.linspace(5*x[0],5*x[-1],1001)\n",
    "y_true=1/(1 + xx**2)\n",
    "pred=rat_eval(p,q,xx)\n",
    "plt.clf();plt.plot(x,y,'*')\n",
    "plt.plot(xx,y_true)\n",
    "plt.plot(xx,pred)"
   ]
  },
  {
   "cell_type": "code",
   "execution_count": 72,
   "metadata": {},
   "outputs": [
    {
     "data": {
      "text/plain": [
       "4"
      ]
     },
     "execution_count": 72,
     "metadata": {},
     "output_type": "execute_result"
    }
   ],
   "source": [
    "x = -2\n",
    "x**2"
   ]
  },
  {
   "cell_type": "code",
   "execution_count": 6,
   "metadata": {},
   "outputs": [
    {
     "ename": "SyntaxError",
     "evalue": "'continue' not properly in loop (<ipython-input-6-556a9109ba61>, line 7)",
     "output_type": "error",
     "traceback": [
      "\u001b[0;36m  File \u001b[0;32m\"<ipython-input-6-556a9109ba61>\"\u001b[0;36m, line \u001b[0;32m7\u001b[0m\n\u001b[0;31mSyntaxError\u001b[0m\u001b[0;31m:\u001b[0m 'continue' not properly in loop\n"
     ]
    }
   ],
   "source": [
    "x = 0\n",
    "\n",
    "if type(x) == type(np.array([])):\n",
    "    pass\n",
    "else: \n",
    "    x = np.array([x])"
   ]
  },
  {
   "cell_type": "code",
   "execution_count": 5,
   "metadata": {},
   "outputs": [
    {
     "data": {
      "text/plain": [
       "array([0])"
      ]
     },
     "execution_count": 5,
     "metadata": {},
     "output_type": "execute_result"
    }
   ],
   "source": [
    "x"
   ]
  },
  {
   "cell_type": "code",
   "execution_count": 16,
   "metadata": {},
   "outputs": [],
   "source": [
    "x = np.array([1,2,3])\n",
    "eps_arr = np.full((len(x)), 5)\n",
    "x_use = np.max(np.vstack((x,eps_arr)), axis = 0)"
   ]
  },
  {
   "cell_type": "code",
   "execution_count": 17,
   "metadata": {},
   "outputs": [
    {
     "data": {
      "text/plain": [
       "array([5, 5, 5])"
      ]
     },
     "execution_count": 17,
     "metadata": {},
     "output_type": "execute_result"
    }
   ],
   "source": [
    "x_use"
   ]
  },
  {
   "cell_type": "code",
   "execution_count": 7,
   "metadata": {},
   "outputs": [],
   "source": [
    "x = np.array([1,2,3,4,5])\n",
    "y = 3\n",
    "\n",
    "bool_arr = x<y"
   ]
  },
  {
   "cell_type": "code",
   "execution_count": 8,
   "metadata": {},
   "outputs": [
    {
     "data": {
      "text/plain": [
       "array([ True,  True, False, False, False])"
      ]
     },
     "execution_count": 8,
     "metadata": {},
     "output_type": "execute_result"
    }
   ],
   "source": [
    "bool_arr"
   ]
  },
  {
   "cell_type": "code",
   "execution_count": 1,
   "metadata": {},
   "outputs": [
    {
     "name": "stdout",
     "output_type": "stream",
     "text": [
      "0\n",
      "1\n",
      "2\n",
      "3\n"
     ]
    }
   ],
   "source": [
    "x = 0\n",
    "\n",
    "while True:\n",
    "    print(x)\n",
    "    if x == 3:\n",
    "        break\n",
    "    x+=1"
   ]
  },
  {
   "cell_type": "code",
   "execution_count": null,
   "metadata": {},
   "outputs": [],
   "source": []
  }
 ],
 "metadata": {
  "kernelspec": {
   "display_name": "Python 3",
   "language": "python",
   "name": "python3"
  },
  "language_info": {
   "codemirror_mode": {
    "name": "ipython",
    "version": 3
   },
   "file_extension": ".py",
   "mimetype": "text/x-python",
   "name": "python",
   "nbconvert_exporter": "python",
   "pygments_lexer": "ipython3",
   "version": "3.7.3"
  }
 },
 "nbformat": 4,
 "nbformat_minor": 2
}
