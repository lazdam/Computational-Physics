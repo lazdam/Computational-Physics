{
 "cells": [
  {
   "cell_type": "code",
   "execution_count": 2,
   "metadata": {},
   "outputs": [],
   "source": [
    "import numpy as np\n",
    "import matplotlib.pyplot as plt"
   ]
  },
  {
   "cell_type": "code",
   "execution_count": 20,
   "metadata": {},
   "outputs": [
    {
     "data": {
      "image/png": "[encoded data removed]",
      "text/plain": [
       "<Figure size 432x288 with 1 Axes>"
      ]
     },
     "metadata": {
      "needs_background": "light"
     },
     "output_type": "display_data"
    },
    {
     "name": "stdout",
     "output_type": "stream",
     "text": [
      "0.0001201707231111847\n",
      "796\n"
     ]
    }
   ],
   "source": [
    "counter_old = 0\n",
    "def rk4_step(fun,x,y,h):\n",
    "    k1 = h*fun(x,y)\n",
    "    k2 = h*fun(x+h/2, y+k1/2)\n",
    "    k3 = h*fun(x+h/2, y+k2/2)\n",
    "    k4 = h*fun(x+h, y+k3)\n",
    "    dy = (k1+ 2*k2 + 2*k3 + k4)/6\n",
    "    \n",
    "    global counter_old\n",
    "    counter_old +=4\n",
    "    \n",
    "    return y + dy\n",
    "\n",
    "\n",
    "def fun(x,y):\n",
    "    return y/(1 + x**2)\n",
    "\n",
    "\n",
    "\n",
    "y0 = 1\n",
    "x = np.linspace(-20,20,200)\n",
    "h = np.median(np.diff(x))\n",
    "y = np.zeros(len(x))\n",
    "y[0] = y0\n",
    "\n",
    "for i in range(len(x) - 1):\n",
    "    y[i+1] = rk4_step(fun, x[i],y[i],h)\n",
    "\n",
    "y_true = np.exp(np.arctan(x) + np.arctan(20))\n",
    "plt.plot(x,y)\n",
    "plt.plot(x,y_true)\n",
    "plt.show()\n",
    "err = np.abs(np.std(y - y_true))\n",
    "print(err)\n",
    "print(counter_old)"
   ]
  },
  {
   "cell_type": "code",
   "execution_count": 17,
   "metadata": {},
   "outputs": [],
   "source": [
    "def rk4_stepd(fun, x, y, h):\n",
    "    \n",
    "    left = rk4_step(fun, x, y, h/2)\n",
    "    right = rk4_step(fun,x+h/2,left, h/2)\n",
    "    \n",
    "    return right\n",
    "    "
   ]
  },
  {
   "cell_type": "code",
   "execution_count": 23,
   "metadata": {},
   "outputs": [
    {
     "data": {
      "image/png": "[encoded data removed]",
      "text/plain": [
       "<Figure size 432x288 with 1 Axes>"
      ]
     },
     "metadata": {
      "needs_background": "light"
     },
     "output_type": "display_data"
    },
    {
     "name": "stdout",
     "output_type": "stream",
     "text": [
      "792\n"
     ]
    }
   ],
   "source": [
    "counter_old = 0\n",
    "y0 = 1\n",
    "x = np.linspace(-20,20,100)\n",
    "h = np.median(np.diff(x))\n",
    "y = np.zeros(len(x))\n",
    "y[0] = y0\n",
    "\n",
    "for i in range(len(x) - 1):\n",
    "    y[i+1] = rk4_stepd(fun, x[i],y[i],h)\n",
    "\n",
    "    \n",
    "y_true = np.exp(np.arctan(x) + np.arctan(20))\n",
    "plt.plot(x,y)\n",
    "plt.plot(x,y_true)\n",
    "plt.show()\n",
    "err = np.abs(np.std(y - y_true))\n",
    "print(counter_old)"
   ]
  },
  {
   "cell_type": "code",
   "execution_count": 24,
   "metadata": {},
   "outputs": [
    {
     "data": {
      "text/plain": [
       "0.00012270791889806674"
      ]
     },
     "execution_count": 24,
     "metadata": {},
     "output_type": "execute_result"
    }
   ],
   "source": [
    "err"
   ]
  },
  {
   "cell_type": "code",
   "execution_count": null,
   "metadata": {},
   "outputs": [],
   "source": []
  }
 ],
 "metadata": {
  "kernelspec": {
   "display_name": "Python 3",
   "language": "python",
   "name": "python3"
  },
  "language_info": {
   "codemirror_mode": {
    "name": "ipython",
    "version": 3
   },
   "file_extension": ".py",
   "mimetype": "text/x-python",
   "name": "python",
   "nbconvert_exporter": "python",
   "pygments_lexer": "ipython3",
   "version": "3.7.3"
  }
 },
 "nbformat": 4,
 "nbformat_minor": 2
}
