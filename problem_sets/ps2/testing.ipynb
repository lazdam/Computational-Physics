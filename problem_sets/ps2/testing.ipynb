{
 "cells": [
  {
   "cell_type": "code",
   "execution_count": 1,
   "metadata": {},
   "outputs": [],
   "source": [
    "import numpy as np\n",
    "import matplotlib.pyplot as plt\n",
    "from numpy.polynomial.chebyshev import chebfit, chebval"
   ]
  },
  {
   "cell_type": "code",
   "execution_count": 190,
   "metadata": {},
   "outputs": [],
   "source": [
    "def integrate_adaptive(fun, a, b, tol, extra = None):\n",
    "    \n",
    "    print('Integrating between', a, b)\n",
    "    \n",
    "    if type(extra) == type(None): \n",
    "        \n",
    "        x = np.linspace(a,b,5)\n",
    "        y = fun(x)\n",
    "        \n",
    "        dx=(b-a)/(len(x)-1)\n",
    "        area1=2*dx*(y[0]+4*y[2]+y[4])/3 #coarse step\n",
    "        area2=dx*(y[0]+4*y[1]+2*y[2]+4*y[3]+y[4])/3 #finer step\n",
    "        err=np.abs(area1-area2)\n",
    "        \n",
    "        saved_data = np.vstack((x,y))\n",
    "        \n",
    "        global function_call_counter\n",
    "        function_call_counter+=len(x)\n",
    "\n",
    "        \n",
    "        if err<tol: \n",
    "            return area2\n",
    "        else: \n",
    "            midpoint = (a + b)/2\n",
    "            left = integrate_adaptive(fun, a, midpoint, tol/2, extra = saved_data)\n",
    "            right = integrate_adaptive(fun, midpoint, b, tol/2, extra = saved_data)\n",
    "            \n",
    "            return left + right\n",
    "    \n",
    "    else: \n",
    "        \n",
    "        saved_data = extra\n",
    "        saved_x = saved_data[0]\n",
    "        saved_y = saved_data[1]\n",
    "\n",
    "        \n",
    "        x = np.linspace(a,b,5)\n",
    "        y = np.empty(len(x))\n",
    "        \n",
    "        for i, x_i in enumerate(x):\n",
    "            \n",
    "            if x_i in saved_x:\n",
    "                \n",
    "                \n",
    "                index = np.where(saved_x == x_i)[0][0] #Finds location of x_i in saved x values\n",
    "                y[i] = saved_y[index] #Retrieve already calculated y value corresponding to x_i\n",
    "            \n",
    "            else: \n",
    "                \n",
    "                saved_x = np.append(saved_x, x_i) #Save the x value for future reference\n",
    "                y[i] = fun(x_i) #Calculate the new y value\n",
    "                saved_y = np.append(saved_y, y[i]) #Save the y value for future reference\n",
    "               \n",
    "                function_call_counter+=1\n",
    "            \n",
    "                \n",
    "\n",
    "        saved_data = np.vstack((saved_x, saved_y))\n",
    "        \n",
    "        #Now that we've got our x and y values, we can compute error as normal\n",
    "        dx=(b-a)/(len(x)-1)\n",
    "        area1=2*dx*(y[0]+4*y[2]+y[4])/3 #coarse step\n",
    "        area2=dx*(y[0]+4*y[1]+2*y[2]+4*y[3]+y[4])/3 #finer step\n",
    "        err=np.abs(area1-area2)\n",
    "        \n",
    "        if err < tol: \n",
    "            return area2\n",
    "        \n",
    "        \n",
    "        else:\n",
    "            midpoint = (a + b)/2\n",
    "            left = integrate_adaptive(fun, a, midpoint, tol/2, extra = saved_data)\n",
    "            right = integrate_adaptive(fun, midpoint, b, tol/2, extra = saved_data)\n",
    "\n",
    "            return left + right\n"
   ]
  },
  {
   "cell_type": "code",
   "execution_count": 191,
   "metadata": {},
   "outputs": [
    {
     "name": "stdout",
     "output_type": "stream",
     "text": [
      "Integrating between 0 1\n",
      "Integrating between 0 0.5\n",
      "Integrating between 0 0.25\n",
      "Integrating between 0 0.125\n",
      "Integrating between 0.125 0.25\n",
      "Integrating between 0.25 0.5\n",
      "Integrating between 0.25 0.375\n",
      "Integrating between 0.25 0.3125\n",
      "Integrating between 0.3125 0.375\n",
      "Integrating between 0.375 0.5\n",
      "Integrating between 0.375 0.4375\n",
      "Integrating between 0.4375 0.5\n",
      "Integrating between 0.5 1\n",
      "Integrating between 0.5 0.75\n",
      "Integrating between 0.5 0.625\n",
      "Integrating between 0.5 0.5625\n",
      "Integrating between 0.5625 0.625\n",
      "Integrating between 0.625 0.75\n",
      "Integrating between 0.625 0.6875\n",
      "Integrating between 0.6875 0.75\n",
      "Integrating between 0.75 1\n",
      "Integrating between 0.75 0.875\n",
      "Integrating between 0.75 0.8125\n",
      "Integrating between 0.8125 0.875\n",
      "Integrating between 0.875 1\n",
      "Integrating between 0.875 0.9375\n",
      "Integrating between 0.9375 1\n"
     ]
    }
   ],
   "source": [
    "function_call_counter = 0\n",
    "a = 0\n",
    "b = 1\n",
    "ans = integrate_adaptive(np.exp, a, b, 1e-7, extra = None)"
   ]
  },
  {
   "cell_type": "code",
   "execution_count": 195,
   "metadata": {},
   "outputs": [
    {
     "name": "stdout",
     "output_type": "stream",
     "text": [
      "integrating between  0 1\n",
      "integrating between  0 0.5\n",
      "integrating between  0 0.25\n",
      "integrating between  0 0.125\n",
      "integrating between  0.125 0.25\n",
      "integrating between  0.25 0.5\n",
      "integrating between  0.25 0.375\n",
      "integrating between  0.25 0.3125\n",
      "integrating between  0.3125 0.375\n",
      "integrating between  0.375 0.5\n",
      "integrating between  0.375 0.4375\n",
      "integrating between  0.4375 0.5\n",
      "integrating between  0.5 1\n",
      "integrating between  0.5 0.75\n",
      "integrating between  0.5 0.625\n",
      "integrating between  0.5 0.5625\n",
      "integrating between  0.5625 0.625\n",
      "integrating between  0.625 0.75\n",
      "integrating between  0.625 0.6875\n",
      "integrating between  0.6875 0.75\n",
      "integrating between  0.75 1\n",
      "integrating between  0.75 0.875\n",
      "integrating between  0.75 0.8125\n",
      "integrating between  0.8125 0.875\n",
      "integrating between  0.875 1\n",
      "integrating between  0.875 0.9375\n",
      "integrating between  0.9375 1\n",
      "1.9795676209355406e-09\n"
     ]
    }
   ],
   "source": [
    "def integrate_adaptive_old(fun,x0,x1,tol):\n",
    "    print('integrating between ',x0,x1)\n",
    "    #hardwire to use simpsons\n",
    "    x=np.linspace(x0,x1,5)\n",
    "    y=fun(x)\n",
    "    \n",
    "    global function_call_counter_old\n",
    "    function_call_counter_old+=5\n",
    "    \n",
    "    dx=(x1-x0)/(len(x)-1)\n",
    "    area1=2*dx*(y[0]+4*y[2]+y[4])/3 #coarse step\n",
    "    area2=dx*(y[0]+4*y[1]+2*y[2]+4*y[3]+y[4])/3 #finer step\n",
    "    err=np.abs(area1-area2)\n",
    "    if err<tol:\n",
    "        return area2\n",
    "    else:\n",
    "        xmid=(x0+x1)/2\n",
    "        left=integrate_adaptive_old(fun,x0,xmid,tol/2)\n",
    "        right=integrate_adaptive_old(fun,xmid,x1,tol/2)\n",
    "        return left+right\n",
    "\n",
    "\n",
    "x0=0\n",
    "x1=1\n",
    "if True:\n",
    "    ans=integrate_adaptive_old(np.exp,x0,x1,1e-7)\n",
    "    print(ans-(np.exp(x1)-np.exp(x0)))\n",
    "# else:\n",
    "#     ans=integrate_adaptive(lorentz,x0,x1,1e-7)\n",
    "#     print(ans-(np.arctan(x1)-np.arctan(x0)))\n",
    "\n",
    "    "
   ]
  },
  {
   "cell_type": "code",
   "execution_count": 194,
   "metadata": {},
   "outputs": [],
   "source": [
    "function_call_counter_old = 0"
   ]
  },
  {
   "cell_type": "code",
   "execution_count": 196,
   "metadata": {},
   "outputs": [
    {
     "data": {
      "text/plain": [
       "135"
      ]
     },
     "execution_count": 196,
     "metadata": {},
     "output_type": "execute_result"
    }
   ],
   "source": [
    "function_call_counter_old"
   ]
  },
  {
   "cell_type": "code",
   "execution_count": 2,
   "metadata": {},
   "outputs": [
    {
     "name": "stderr",
     "output_type": "stream",
     "text": [
      "/home/mattias/snap/jupyter/common/lib/python3.7/site-packages/numpy/polynomial/chebyshev.py:1670: RankWarning: The fit may be poorly conditioned\n",
      "  return pu._fit(chebvander, x, y, deg, rcond, full, w)\n"
     ]
    },
    {
     "name": "stdout",
     "output_type": "stream",
     "text": [
      "Using Chebyshev Polynomials up to order 50, it takes a minimum of 53 points to obtain an error of 4.972986458963737e-07 (tolerance = 1e-06)\n"
     ]
    },
    {
     "data": {
      "image/png": "[encoded data removed]",
      "text/plain": [
       "<Figure size 432x288 with 1 Axes>"
      ]
     },
     "metadata": {
      "needs_background": "light"
     },
     "output_type": "display_data"
    },
    {
     "data": {
      "text/plain": [
       "53"
      ]
     },
     "execution_count": 2,
     "metadata": {},
     "output_type": "execute_result"
    }
   ],
   "source": [
    "def model_log2(x, npts, ord, tol):\n",
    "    \n",
    "    \n",
    "    #Determine points to fit\n",
    "    x = np.linspace(0.5,1,npts) \n",
    "    y = np.log2(x) \n",
    "    \n",
    "    #Scale x values. See explanation in attached PDF. \n",
    "    x_scaled = 4*x - 3 \n",
    "    \n",
    "    #Fit Chebyshev polynomials. Get coefficients\n",
    "    coeffs = chebfit(x_scaled, y, ord)\n",
    "    \n",
    "    #Compute Error\n",
    "    xx = np.linspace(-1,1,1000)\n",
    "    y_cheb_pred = chebval(xx,coeffs) #Predicted y vals\n",
    "    \n",
    "    #Transform back to original x values\n",
    "    reverse_scaled_x = (xx + 3)/4\n",
    "    y_true = np.log2(reverse_scaled_x)\n",
    "    \n",
    "    error = np.std(y_cheb_pred - y_true)\n",
    "    \n",
    "    \n",
    "    if error < tol:\n",
    "        print('Using Chebyshev Polynomials up to order {0}, it takes a minimum of {1} points to obtain an error of {2} (tolerance = {3})'.format(ord, npts, error, tol))\n",
    "        plt.plot(reverse_scaled_x, y_cheb_pred, label = 'Fit')\n",
    "        plt.plot(reverse_scaled_x, y_true, label = 'True')\n",
    "        plt.legend()\n",
    "        plt.show()\n",
    "        \n",
    "        return len(x)\n",
    "    \n",
    "    else: \n",
    "        \n",
    "        increase_npts = model_log2(x,npts+1, ord, tol)\n",
    "        \n",
    "        return increase_npts\n",
    "\n",
    "\n",
    "model_log2(5, 3, 50, 1e-6)"
   ]
  },
  {
   "cell_type": "code",
   "execution_count": 99,
   "metadata": {},
   "outputs": [],
   "source": [
    "def get_cheby_coeffs(npts = 100, tol = 1e-6, ord = 100):\n",
    "    \n",
    "    #Must have same number of points and order to start off\n",
    "    assert(npts == ord)\n",
    "    \n",
    "    #Generate set of points to fit\n",
    "    x_to_fit = np.linspace(0.5, 1, npts)\n",
    "    y_to_fit = np.log2(x_to_fit)\n",
    "    \n",
    "    #Scale x values to be within (-1, 1)\n",
    "    x_scaled = 4*x_to_fit - 3\n",
    "    coeffs = chebfit(x_scaled, y_to_fit, ord)\n",
    "    \n",
    "    removed_coeffs = np.copy(coeffs)\n",
    "    removed_coeffs[np.abs(removed_coeffs)>tol] = 0\n",
    "    err_tot = np.sum(removed_coeffs)\n",
    "    print('Removed Excess Coefficients. Max error is', err_tot)\n",
    "    \n",
    "    coeffs[np.abs(coeffs)<=tol] = 0\n",
    "\n",
    "    num_removed_coeffs = len(np.where(coeffs == 0)[0])\n",
    "    print('Only need {0} coefficients to satisfy accuracy of {1}.'.format(len(coeffs) -  num_removed_coeffs, tol))\n",
    "    \n",
    "    xx = np.linspace(-1,1,1000)\n",
    "    xx = (xx + 3)/4\n",
    "    yy = chebval(xx, coeffs)\n",
    "    \n",
    "    plt.plot(xx,yy)\n",
    "    plt.plot(xx, np.log2(xx))\n",
    "    plt.show()\n",
    "    return coeffs\n",
    "        \n",
    "    \n",
    "    \n",
    "    \n",
    "    "
   ]
  },
  {
   "cell_type": "code",
   "execution_count": 100,
   "metadata": {},
   "outputs": [
    {
     "name": "stdout",
     "output_type": "stream",
     "text": [
      "Removed Excess Coefficients. Max error is 1.4029532005369895e-07\n",
      "Only need 93 coefficients to satisfy accuracy of 1e-06.\n"
     ]
    },
    {
     "name": "stderr",
     "output_type": "stream",
     "text": [
      "/home/mattias/snap/jupyter/common/lib/python3.7/site-packages/numpy/polynomial/chebyshev.py:1670: RankWarning: The fit may be poorly conditioned\n",
      "  return pu._fit(chebvander, x, y, deg, rcond, full, w)\n"
     ]
    },
    {
     "data": {
      "image/png": "[encoded data removed]",
      "text/plain": [
       "<Figure size 432x288 with 1 Axes>"
      ]
     },
     "metadata": {
      "needs_background": "light"
     },
     "output_type": "display_data"
    },
    {
     "data": {
      "text/plain": [
       "-6.0592717779889905e+85"
      ]
     },
     "execution_count": 100,
     "metadata": {},
     "output_type": "execute_result"
    }
   ],
   "source": [
    "coeffs = get_cheby_coeffs()\n",
    "ans = chebval(5, coeffs)\n",
    "ans"
   ]
  },
  {
   "cell_type": "code",
   "execution_count": 87,
   "metadata": {},
   "outputs": [],
   "source": [
    "def mylog2(x, npts=50, tol=1e-6, ord=50 ):\n",
    "    \n",
    "    coeffs = get_cheby_coeffs(npts, tol, ord)\n",
    "    M, y = np.frexp(x)\n",
    "    \n",
    "    #Re-scale mantissa\n",
    "    M_scaled = (M + 3)/4\n",
    "    log2_M = chebval(M_scaled, coeffs)\n",
    "    print ('y = ', y)\n",
    "    print(M)\n",
    "    print(M_scaled, log2_M)\n",
    "    \n",
    "    \n",
    "    \n",
    "    return (log2_M + y)/1.4426950408889634\n",
    "    \n",
    "    "
   ]
  },
  {
   "cell_type": "code",
   "execution_count": 10,
   "metadata": {},
   "outputs": [],
   "source": [
    "def model_log2(npts=20, ord=19, tol=1e-6):\n",
    "    \n",
    "    x = np.linspace(0.5, 1, npts)\n",
    "    y = np.log2(x)\n",
    "    \n",
    "    x_scaled = 4*x - 3\n",
    "    coeffs = chebfit(x_scaled, y, ord)\n",
    "    \n",
    "    coeffs[np.abs(coeffs)<=tol] = 0 \n",
    "    \n",
    "    num_removed_coeffs = len(np.where(coeffs == 0)[0])\n",
    "    print('Removed {0} coefficients. Error tolerance satisfied.'.format(num_removed_coeffs))\n",
    "    \n",
    "    return coeffs"
   ]
  },
  {
   "cell_type": "code",
   "execution_count": 7,
   "metadata": {},
   "outputs": [
    {
     "name": "stdout",
     "output_type": "stream",
     "text": [
      "Removed 7 coefficients. Error tolerance satisfied.\n"
     ]
    }
   ],
   "source": [
    "coeffs = model_log2(15, 14, 1e-6)"
   ]
  },
  {
   "cell_type": "code",
   "execution_count": 29,
   "metadata": {},
   "outputs": [],
   "source": [
    "def mylog2(x):\n",
    "    \n",
    "    M, exp = np.frexp(x) #M between 0.5 and 1, exp an integer\n",
    "    \n",
    "    coeffs = model_log2() #Get coefficients\n",
    "    \n",
    "    M_scaled = 4*M - 3 #Re-scale M to be between -1 and 1\n",
    "    log2_pred = chebval(M_scaled, coeffs)# Calculate predicted value using Chebyshev Coefficients\n",
    "    \n",
    "    log_e = (log2_pred + exp)/1.4426950408889634\n",
    "    \n",
    "    return log_e\n",
    "    "
   ]
  },
  {
   "cell_type": "code",
   "execution_count": 30,
   "metadata": {},
   "outputs": [
    {
     "name": "stdout",
     "output_type": "stream",
     "text": [
      "Removed 12 coefficients. Error tolerance satisfied.\n"
     ]
    },
    {
     "data": {
      "text/plain": [
       "1.6094377881893538"
      ]
     },
     "execution_count": 30,
     "metadata": {},
     "output_type": "execute_result"
    }
   ],
   "source": [
    "mylog2(5)"
   ]
  },
  {
   "cell_type": "code",
   "execution_count": 33,
   "metadata": {},
   "outputs": [
    {
     "name": "stdout",
     "output_type": "stream",
     "text": [
      "Removed 12 coefficients. Error tolerance satisfied.\n"
     ]
    },
    {
     "data": {
      "text/plain": [
       "-7.443434046905395e-08"
      ]
     },
     "execution_count": 33,
     "metadata": {},
     "output_type": "execute_result"
    }
   ],
   "source": [
    "np.log(100) - mylog2(100)"
   ]
  },
  {
   "cell_type": "code",
   "execution_count": null,
   "metadata": {},
   "outputs": [],
   "source": []
  }
 ],
 "metadata": {
  "kernelspec": {
   "display_name": "Python 3",
   "language": "python",
   "name": "python3"
  },
  "language_info": {
   "codemirror_mode": {
    "name": "ipython",
    "version": 3
   },
   "file_extension": ".py",
   "mimetype": "text/x-python",
   "name": "python",
   "nbconvert_exporter": "python",
   "pygments_lexer": "ipython3",
   "version": "3.7.3"
  }
 },
 "nbformat": 4,
 "nbformat_minor": 2
}
