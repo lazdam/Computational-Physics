{
 "cells": [
  {
   "cell_type": "code",
   "execution_count": 2,
   "id": "990e9dd2",
   "metadata": {},
   "outputs": [],
   "source": [
    "import numpy as np\n",
    "import matplotlib.pyplot as plt\n",
    "from scipy import signal\n",
    "import time"
   ]
  },
  {
   "cell_type": "markdown",
   "id": "ece8b712",
   "metadata": {},
   "source": [
    "### a) Making our potential"
   ]
  },
  {
   "cell_type": "code",
   "execution_count": 3,
   "id": "a260e3dd",
   "metadata": {},
   "outputs": [],
   "source": [
    "def get_potential(n, dim = 2):\n",
    "    \n",
    "    dx = np.arange(n)\n",
    "    \n",
    "    pot = np.zeros([n,n])\n",
    "    x,y = np.meshgrid(dx,dx)\n",
    "    dr = np.sqrt(x**2 + y**2)\n",
    "    dr[0,0] = 1 # Set temporarily to avoid error\n",
    "    pot = -4.1*np.log(dr)/2/np.pi\n",
    "    pot[0,0] = 1 + (pot[1,0] + pot[0,1])/2\n",
    "        \n",
    "    return pot"
   ]
  },
  {
   "cell_type": "code",
   "execution_count": 4,
   "id": "de8fef7b",
   "metadata": {},
   "outputs": [
    {
     "data": {
      "image/png": "[encoded data removed]",
      "text/plain": [
       "<Figure size 432x288 with 2 Axes>"
      ]
     },
     "metadata": {
      "needs_background": "light"
     },
     "output_type": "display_data"
    }
   ],
   "source": [
    "V = get_potential(25)\n",
    "plt.imshow(V)\n",
    "plt.colorbar()\n",
    "plt.show()"
   ]
  },
  {
   "cell_type": "code",
   "execution_count": 5,
   "id": "97ad883a",
   "metadata": {},
   "outputs": [
    {
     "name": "stdout",
     "output_type": "stream",
     "text": [
      "The potential at [1,0] and [2,0] are:\n",
      "V[1,0] = 0.0 \n",
      "V[2,0] = -0.4523029803129357\n",
      "\n"
     ]
    }
   ],
   "source": [
    "print('''The potential at [1,0] and [2,0] are:\n",
    "V[1,0] = {0} \n",
    "V[2,0] = {1}\n",
    "'''.format(np.abs(V[1,0]), V[2,0]))"
   ]
  },
  {
   "cell_type": "markdown",
   "id": "089579eb",
   "metadata": {},
   "source": [
    "### b) "
   ]
  },
  {
   "cell_type": "code",
   "execution_count": 6,
   "id": "24595b68",
   "metadata": {},
   "outputs": [],
   "source": [
    "def rho2pot(rho, kernelft):\n",
    "    tmp = rho.copy()\n",
    "    tmp = np.pad(tmp, (0,tmp.shape[0]))\n",
    "    \n",
    "    tmpft = np.fft.rfftn(tmp)\n",
    "    tmp = np.fft.irfftn(tmpft*kernelft)\n",
    "    \n",
    "    tmp = tmp[:rho.shape[0], :rho.shape[1]]\n",
    "    return tmp\n",
    "\n",
    "def rho2pot_masked(rho, mask, kernelft, return_mat = False):\n",
    "    rhomat = np.zeros(mask.shape)\n",
    "    rhomat[mask] = rho\n",
    "    potmat = rho2pot(rhomat, kernelft)\n",
    "    \n",
    "    if return_mat:\n",
    "        return potmat\n",
    "    else: \n",
    "        return potmat[mask]\n",
    "\n",
    "def cg(rhs,x0,mask,kernelft,niter,fun=rho2pot_masked,show_steps=False,step_pause=0.01):\n",
    "    \"\"\"cg(rhs,x0,mask,niter) - this runs a conjugate gradient solver to solve Ax=b where A\n",
    "    is the Laplacian operator interpreted as a matrix, and b is the contribution from the \n",
    "    boundary conditions.  Incidentally, one could add charge into the region by adding it\n",
    "    to b (the right-hand side or rhs variable).  Other than carrying around helper variables\n",
    "    (like mask and kernelft), this is once again bog-standard conjugate gradient.\"\"\"\n",
    "\n",
    "    t1=time.time()\n",
    "    Ax=fun(x0,mask,kernelft)\n",
    "    r=rhs-Ax\n",
    "    #print('sum here is ',np.sum(np.abs(r[mask])))\n",
    "    p=r.copy()\n",
    "    x=x0.copy()\n",
    "    rsqr=np.sum(r*r)\n",
    "    print('starting rsqr is ',rsqr)\n",
    "    for k in range(niter):\n",
    "        #Ap=ax_2d(p,mask)\n",
    "        Ap=fun(p,mask,kernelft)\n",
    "        alpha=np.sum(r*r)/np.sum(Ap*p)\n",
    "        x=x+alpha*p\n",
    "        if show_steps:            \n",
    "            tmp=fun(x,mask,kernelft,True)\n",
    "            plt.clf();\n",
    "            #plt.imshow(tmp,vmin=-2.1,vmax=2.1)\n",
    "            plt.imshow(tmp)\n",
    "            plt.colorbar()\n",
    "            plt.title('rsqr='+repr(rsqr)+' on iter '+repr(k+1))\n",
    "            plt.savefig('laplace_iter_1024_'+repr(k+1)+'.png')\n",
    "            plt.pause(step_pause)\n",
    "        r=r-alpha*Ap\n",
    "        rsqr_new=np.sum(r*r)\n",
    "        beta=rsqr_new/rsqr\n",
    "        p=r+beta*p\n",
    "        rsqr=rsqr_new\n",
    "        #print('rsqr on iter ',k,' is ',rsqr,np.sum(np.abs(r[mask])))\n",
    "    t2=time.time()\n",
    "    print('final rsqr is ',rsqr,' after ',t2-t1,' seconds')\n",
    "    return x"
   ]
  },
  {
   "cell_type": "code",
   "execution_count": 13,
   "id": "ce53408c",
   "metadata": {},
   "outputs": [
    {
     "name": "stdout",
     "output_type": "stream",
     "text": [
      "starting rsqr is  1020.0\n",
      "final rsqr is  0.5037077703375992  after  0.029419422149658203  seconds\n"
     ]
    }
   ],
   "source": [
    "n = 256\n",
    "bc = np.zeros([n,n])\n",
    "mask = np.zeros([n,n], dtype = 'bool')\n",
    "\n",
    "# Set mask\n",
    "mask[0,:] = True\n",
    "mask[-1,:] = True\n",
    "mask[:,0] = True\n",
    "mask[:,-1] = True\n",
    "\n",
    "# Set boundary conditions\n",
    "bc[0,:] = 1\n",
    "bc[-1,:] = 1\n",
    "bc[:,0] = 1\n",
    "bc[:,-1] = 1\n",
    "\n",
    "# Get greens function\n",
    "kernel = get_potential(2*n)\n",
    "kernelft = np.fft.rfft2(kernel)\n",
    "\n",
    "rhs = bc[mask]\n",
    "x0 = 0*rhs\n",
    "\n",
    "rho_out = cg(rhs, x0, mask, kernelft, 3, show_steps = False, step_pause = 0.25)\n",
    "pot = rho2pot_masked(rho_out, mask, kernelft, True)"
   ]
  },
  {
   "cell_type": "code",
   "execution_count": 14,
   "id": "ffad2e25",
   "metadata": {},
   "outputs": [
    {
     "data": {
      "text/plain": [
       "<matplotlib.image.AxesImage at 0x7f03f4a269a0>"
      ]
     },
     "execution_count": 14,
     "metadata": {},
     "output_type": "execute_result"
    },
    {
     "data": {
      "image/png": "[encoded data removed]",
      "text/plain": [
       "<Figure size 432x288 with 1 Axes>"
      ]
     },
     "metadata": {
      "needs_background": "light"
     },
     "output_type": "display_data"
    }
   ],
   "source": [
    "plt.imshow(pot)"
   ]
  },
  {
   "cell_type": "code",
   "execution_count": null,
   "id": "719f17b5",
   "metadata": {},
   "outputs": [],
   "source": []
  }
 ],
 "metadata": {
  "kernelspec": {
   "display_name": "chime_env",
   "language": "python",
   "name": "chime_env"
  },
  "language_info": {
   "codemirror_mode": {
    "name": "ipython",
    "version": 3
   },
   "file_extension": ".py",
   "mimetype": "text/x-python",
   "name": "python",
   "nbconvert_exporter": "python",
   "pygments_lexer": "ipython3",
   "version": "3.9.7"
  }
 },
 "nbformat": 4,
 "nbformat_minor": 5
}
